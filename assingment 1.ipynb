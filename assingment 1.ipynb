{
 "cells": [
  {
   "cell_type": "markdown",
   "id": "0e44524c-47d3-4ce4-850e-b2a5c8750a53",
   "metadata": {},
   "source": [
    "Task 1 :- Create and Access Lists"
   ]
  },
  {
   "cell_type": "code",
   "execution_count": 49,
   "id": "f3397938-4363-4936-8cf1-5a67837fa1cb",
   "metadata": {},
   "outputs": [
    {
     "name": "stdout",
     "output_type": "stream",
     "text": [
      "['Apple', 'Banana', 'Cherry', 'Mango']\n"
     ]
    },
    {
     "data": {
      "text/plain": [
       "'Apple'"
      ]
     },
     "execution_count": 49,
     "metadata": {},
     "output_type": "execute_result"
    }
   ],
   "source": [
    "fruits = [\"Apple\",\"Banana\",\"Cherry\",\"Mango\"]\n",
    "print(fruits)\n",
    "fruits[0]"
   ]
  },
  {
   "cell_type": "code",
   "execution_count": 50,
   "id": "77cc0109-aba0-4df2-93dc-db3176731896",
   "metadata": {},
   "outputs": [
    {
     "data": {
      "text/plain": [
       "'Cherry'"
      ]
     },
     "execution_count": 50,
     "metadata": {},
     "output_type": "execute_result"
    }
   ],
   "source": [
    "fruits[-2]"
   ]
  },
  {
   "cell_type": "markdown",
   "id": "6c582e1a-fbd8-4de4-b0a6-918673abe543",
   "metadata": {},
   "source": [
    "Task 2 :- Modify Lists"
   ]
  },
  {
   "cell_type": "code",
   "execution_count": 51,
   "id": "58a9c263-2a05-451b-8bb3-c64bcd624f1a",
   "metadata": {},
   "outputs": [
    {
     "name": "stdout",
     "output_type": "stream",
     "text": [
      "['Apple', 'Banana', 'Cherry', 'Mango', 'Orange']\n"
     ]
    }
   ],
   "source": [
    "\n",
    "fruits.append(\"Orange\")\n",
    "print(fruits)"
   ]
  },
  {
   "cell_type": "code",
   "execution_count": 52,
   "id": "9a859f02-0a12-4371-8643-cd3c28b43bbf",
   "metadata": {},
   "outputs": [
    {
     "name": "stdout",
     "output_type": "stream",
     "text": [
      "['Apple', 'Banana', 'Pineapple', 'Cherry', 'Mango', 'Orange']\n"
     ]
    }
   ],
   "source": [
    "fruits.insert(2,\"Pineapple\")\n",
    "print(fruits)"
   ]
  },
  {
   "cell_type": "code",
   "execution_count": 53,
   "id": "1aefbf71-d959-4106-b805-32aa76190417",
   "metadata": {},
   "outputs": [
    {
     "name": "stdout",
     "output_type": "stream",
     "text": [
      "['Apple', 'Banana', 'Pineapple', 'Strawberry', 'Mango', 'Orange']\n"
     ]
    }
   ],
   "source": [
    "fruits[3]=\"Strawberry\"\n",
    "print(fruits)"
   ]
  },
  {
   "cell_type": "markdown",
   "id": "31678c80-46f8-4a1c-9ec5-91f665b35def",
   "metadata": {},
   "source": [
    "Task 3 :- List Slicing"
   ]
  },
  {
   "cell_type": "code",
   "execution_count": 39,
   "id": "618cdd92-1d3d-4f56-b7e0-1b8b9eb26938",
   "metadata": {},
   "outputs": [
    {
     "data": {
      "text/plain": [
       "[1, 2, 3, 4, 5, 6]"
      ]
     },
     "execution_count": 39,
     "metadata": {},
     "output_type": "execute_result"
    }
   ],
   "source": [
    "Numbers = [1,2,3,4,5,6,7,8,9,10]\n",
    "Numbers[0:6]"
   ]
  },
  {
   "cell_type": "code",
   "execution_count": 46,
   "id": "8f76a660-3e1a-483b-af55-7dfd218c7160",
   "metadata": {},
   "outputs": [
    {
     "data": {
      "text/plain": [
       "[8, 9, 10]"
      ]
     },
     "execution_count": 46,
     "metadata": {},
     "output_type": "execute_result"
    }
   ],
   "source": [
    "Numbers[7:]"
   ]
  },
  {
   "cell_type": "code",
   "execution_count": 47,
   "id": "9fa8d881-bb7f-4b5e-9f09-998dfa9df3d0",
   "metadata": {},
   "outputs": [
    {
     "data": {
      "text/plain": [
       "[1, 3, 5, 7, 9]"
      ]
     },
     "execution_count": 47,
     "metadata": {},
     "output_type": "execute_result"
    }
   ],
   "source": [
    "Numbers[0:11:2]"
   ]
  },
  {
   "cell_type": "code",
   "execution_count": 48,
   "id": "214f7730-ba2d-40c2-adc4-dbc8954c03e9",
   "metadata": {},
   "outputs": [
    {
     "data": {
      "text/plain": [
       "[10, 9, 8, 7, 6, 5, 4, 3, 2, 1]"
      ]
     },
     "execution_count": 48,
     "metadata": {},
     "output_type": "execute_result"
    }
   ],
   "source": [
    "Numbers[ ::-1]"
   ]
  },
  {
   "cell_type": "markdown",
   "id": "5e2c2b88-b0b4-4422-86ed-17900e1dd14c",
   "metadata": {},
   "source": [
    "Task 4 :- List Operation"
   ]
  },
  {
   "cell_type": "code",
   "execution_count": 54,
   "id": "da85c4d1-9830-4db6-a729-4bddfd958365",
   "metadata": {},
   "outputs": [
    {
     "name": "stdout",
     "output_type": "stream",
     "text": [
      "['Apple', 'Banana', 'Pineapple', 'Strawberry', 'Mango', 'Orange', 1, 2, 3, 4, 5, 6, 7, 8, 9, 10]\n"
     ]
    }
   ],
   "source": [
    "combine = fruits+Numbers\n",
    "print(combine)"
   ]
  },
  {
   "cell_type": "code",
   "execution_count": 55,
   "id": "3bed4eab-08f4-46e4-92d7-9f1f304a7e2b",
   "metadata": {},
   "outputs": [
    {
     "name": "stdout",
     "output_type": "stream",
     "text": [
      "['Apple', 'Banana', 'Pineapple', 'Strawberry', 'Mango', 'Orange', 'Apple', 'Banana', 'Pineapple', 'Strawberry', 'Mango', 'Orange', 'Apple', 'Banana', 'Pineapple', 'Strawberry', 'Mango', 'Orange']\n"
     ]
    }
   ],
   "source": [
    "Multiple = 3*fruits\n",
    "print(Multiple)"
   ]
  },
  {
   "cell_type": "code",
   "execution_count": 57,
   "id": "86ec86d4-a234-4db1-b5ba-0af20fc79f88",
   "metadata": {},
   "outputs": [
    {
     "name": "stdout",
     "output_type": "stream",
     "text": [
      "18\n"
     ]
    }
   ],
   "source": [
    "print(len(Multiple))"
   ]
  },
  {
   "cell_type": "code",
   "execution_count": null,
   "id": "c0504cb0-e859-40af-9de0-11905fa6f994",
   "metadata": {},
   "outputs": [],
   "source": []
  }
 ],
 "metadata": {
  "kernelspec": {
   "display_name": "Python 3 (ipykernel)",
   "language": "python",
   "name": "python3"
  },
  "language_info": {
   "codemirror_mode": {
    "name": "ipython",
    "version": 3
   },
   "file_extension": ".py",
   "mimetype": "text/x-python",
   "name": "python",
   "nbconvert_exporter": "python",
   "pygments_lexer": "ipython3",
   "version": "3.13.3"
  }
 },
 "nbformat": 4,
 "nbformat_minor": 5
}
