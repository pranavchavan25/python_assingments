{
 "cells": [
  {
   "cell_type": "code",
   "execution_count": 4,
   "id": "e9ae83c1-639c-437c-985f-9d738c16b915",
   "metadata": {},
   "outputs": [
    {
     "name": "stdin",
     "output_type": "stream",
     "text": [
      "Enter an Deposit Amount : 10000\n",
      "Enter an Withdraw Amount : 2000\n"
     ]
    },
    {
     "name": "stdout",
     "output_type": "stream",
     "text": [
      "Total Balance after Deposit=  60000\n",
      "Total Balance after Withdraw =  58000\n"
     ]
    }
   ],
   "source": [
    "# Q.1\n",
    "class BankAccount:\n",
    "    def __init__(self,balance):\n",
    "        self.balance = balance\n",
    "        self.de = 0\n",
    "        self.wi = 0\n",
    "\n",
    "    def Acceptamount(self):\n",
    "        self.de =int(input(\"Enter an Deposit Amount :\"))\n",
    "        self.wi = int(input(\"Enter an Withdraw Amount :\"))\n",
    "\n",
    "    def Display(self):\n",
    "        # Deposit = Balance + self.de\n",
    "        self.balance = self.balance + self.de\n",
    "        print(\"Total Balance after Deposit= \",self.balance)\n",
    "        # Withdraw = Balance - self.wi\n",
    "        self.balance = self.balance - self.wi\n",
    "        print(\"Total Balance after Withdraw = \",self.balance)\n",
    "\n",
    "# create object\n",
    "result = BankAccount(50000)\n",
    "result.Acceptamount()\n",
    "result.Display()"
   ]
  },
  {
   "cell_type": "code",
   "execution_count": 9,
   "id": "81caaab8-47d4-4fff-a25d-f0c0486ffd08",
   "metadata": {},
   "outputs": [
    {
     "name": "stdout",
     "output_type": "stream",
     "text": [
      "Total Balance after Deposit=  80000\n",
      "Total Balance After Withdraw : 75000\n"
     ]
    }
   ],
   "source": [
    "# Q.1\n",
    "class BankAccount:\n",
    "    def __init__(self,balance):\n",
    "        self.balance = balance\n",
    "        # self.de = 0\n",
    "        # self.wi = 0\n",
    "\n",
    "    # def Acceptamount(self):\n",
    "    #     self.de =int(input(\"Enter an Deposit Amount :\"))\n",
    "    #     self.wi = int(input(\"Enter an Withdraw Amount :\"))\n",
    "\n",
    "    def Deposit(self,de_amount):\n",
    "        self.balance = self.balance + de_amount\n",
    "        print(\"Total Balance after Deposit= \",self.balance)\n",
    "\n",
    "    def Withdraw(self,wi_amount):\n",
    "        self.balance = self.balance - wi_amount\n",
    "        print(\"Total Balance After Withdraw :\",self.balance)\n",
    "\n",
    "result = BankAccount(50000)\n",
    "result.Deposit(30000)\n",
    "result.Withdraw(5000)"
   ]
  },
  {
   "cell_type": "code",
   "execution_count": 12,
   "id": "4944890b-a469-4446-adc1-387c28362820",
   "metadata": {},
   "outputs": [
    {
     "name": "stdout",
     "output_type": "stream",
     "text": [
      "Please enter elements :\n"
     ]
    },
    {
     "name": "stdin",
     "output_type": "stream",
     "text": [
      " 1\n",
      " 2\n",
      " 3\n",
      " 4\n",
      " 5\n",
      " 6\n",
      " 7\n",
      " 8\n",
      " 9\n",
      " 10\n"
     ]
    },
    {
     "name": "stdout",
     "output_type": "stream",
     "text": [
      "[1, 2, 3, 4, 5, 6, 7, 8, 9, 10]\n"
     ]
    },
    {
     "data": {
      "text/plain": [
       "55"
      ]
     },
     "execution_count": 12,
     "metadata": {},
     "output_type": "execute_result"
    }
   ],
   "source": [
    "class ClassNumber:\n",
    "    def __init__(self):\n",
    "        self.input_list = []\n",
    "\n",
    "    def Accept_Number(self):\n",
    "        print(\"Please enter elements :\")\n",
    "        for i in range(1,11):\n",
    "            values = int(input())\n",
    "            self.input_list.append(values)\n",
    "        print(self.input_list)\n",
    "            \n",
    "\n",
    "    def Summation(self):\n",
    "        sum = 0\n",
    "        for i in self.input_list:\n",
    "            sum += i\n",
    "        return sum\n",
    "\n",
    "result = ClassNumber()\n",
    "result.Accept_Number()\n",
    "result.Summation()"
   ]
  },
  {
   "cell_type": "code",
   "execution_count": 27,
   "id": "8f55d408-2aa4-4369-92fc-20d29e37d4be",
   "metadata": {},
   "outputs": [
    {
     "name": "stdout",
     "output_type": "stream",
     "text": [
      "Area of circle : 314.0\n",
      "Area of Rectangle : 50\n",
      "Area of Triangle : 60.0\n"
     ]
    }
   ],
   "source": [
    "# Q.4\n",
    "class Shape:\n",
    "    def area(self):\n",
    "        pass\n",
    "\n",
    "\n",
    "# Child class\n",
    "class Circle(Shape):\n",
    "    def __init__(self,radius):\n",
    "        # super().__init__()\n",
    "        self.r = radius\n",
    "\n",
    "    def area(self):\n",
    "        print(\"Area of circle :\",3.14 * self.r * self.r)\n",
    "\n",
    "class Rectangle(Shape):\n",
    "    def __init__(self,length,breadth):\n",
    "        # super().__init__()\n",
    "        self.l = length\n",
    "        self.b = breadth\n",
    "\n",
    "    def area(self):\n",
    "        print(\"Area of Rectangle :\",self.l * self.b)\n",
    "\n",
    "class Triangle(Shape):\n",
    "    def __init__(self,base,height):\n",
    "         # super().__init__()\n",
    "         self.ba = base\n",
    "         self.h = height\n",
    "\n",
    "    def area(self):\n",
    "        print(\"Area of Triangle :\",1/2*self.ba*self.h)\n",
    "\n",
    "\n",
    "shapes = [Circle(10),Rectangle(10,5),Triangle(20,6)]\n",
    "\n",
    "for i in shapes:\n",
    "    i.area()\n",
    "\n"
   ]
  },
  {
   "cell_type": "code",
   "execution_count": 7,
   "id": "45aa2dec-f003-44a9-81d2-d609006d8b0c",
   "metadata": {},
   "outputs": [
    {
     "name": "stdout",
     "output_type": "stream",
     "text": [
      "Person Details :\n",
      "Name : Pranav\n",
      "Age: 20\n",
      "Employee Details :\n",
      "Employee ID : A0289P\n"
     ]
    }
   ],
   "source": [
    "# Q.5\n",
    "class Person:\n",
    "    def __init__(self,name,age):\n",
    "        self.name = name\n",
    "        self.age = age\n",
    "\n",
    "    def Display_info(self):\n",
    "        print(f\"Name : {self.name}\")\n",
    "        print(f\"Age: {self.age}\")\n",
    "\n",
    "\n",
    "class Employee(Person):\n",
    "    def __init__(self,name,age,employee_id):\n",
    "        super().__init__(name,age)\n",
    "        self.employee_id = employee_id\n",
    "\n",
    "    def Display_info(self):\n",
    "        # print(type(self.emplyoee_id))\n",
    "        print(f\"Employee ID : {self.employee_id}\")\n",
    "\n",
    "\n",
    "person1 = Person(\"Pranav\",20)\n",
    "employee1 = Employee(\"Kunal\",22,\"A0289P\")\n",
    "\n",
    "print(\"Person Details :\")\n",
    "person1.Display_info()\n",
    "\n",
    "print(\"Employee Details :\")\n",
    "employee1.Display_info()"
   ]
  },
  {
   "cell_type": "code",
   "execution_count": 6,
   "id": "5e95a1ec-8187-4eeb-a1e7-7beb7deff02e",
   "metadata": {},
   "outputs": [
    {
     "name": "stdout",
     "output_type": "stream",
     "text": [
      "Manager:Neel Sharma has 80000 salary.\n",
      "Employee Name,Deep Sharma,with,87000,salary.\n"
     ]
    }
   ],
   "source": [
    "# Q.6\n",
    "class Employee:\n",
    "    def __init__(self,name,basic_salary):\n",
    "        self.name = name\n",
    "        self.basic_salary = basic_salary\n",
    "\n",
    "    def Display(self):\n",
    "        print(f\"Employee Name,{self.name},with,{self.basic_salary},salary.\")\n",
    "\n",
    "class Manager(Employee):\n",
    "    def __init__(self,name,basic_salary):\n",
    "        super().__init__(name,basic_salary)\n",
    "\n",
    "    def Display(self):\n",
    "        additional_bonus = 20000\n",
    "        total = self.basic_salary + additional_bonus\n",
    "        print(f\"Manager:{self.name} has {total} salary.\")\n",
    "\n",
    "class Developer(Employee):\n",
    "    def __init__(self,name,basic_salary):\n",
    "        super().__init__(name,basic_salary)\n",
    "\n",
    "    def Dispaly(self):\n",
    "        project_allowance = 15000\n",
    "        total = self.basic_salary + project_allowance\n",
    "        print(f\"Developer:{self.name} has {total} salary.\")\n",
    "\n",
    "emp1 = Manager(\"Neel Sharma\",60000)\n",
    "emp1.Display()\n",
    "emp2 = Developer(\"Deep Sharma\",87000)\n",
    "emp2.Display()"
   ]
  },
  {
   "cell_type": "code",
   "execution_count": null,
   "id": "f0041ec0-3abc-4cf1-8222-623169ef833f",
   "metadata": {},
   "outputs": [],
   "source": []
  }
 ],
 "metadata": {
  "kernelspec": {
   "display_name": "Python 3 (ipykernel)",
   "language": "python",
   "name": "python3"
  },
  "language_info": {
   "codemirror_mode": {
    "name": "ipython",
    "version": 3
   },
   "file_extension": ".py",
   "mimetype": "text/x-python",
   "name": "python",
   "nbconvert_exporter": "python",
   "pygments_lexer": "ipython3",
   "version": "3.13.3"
  }
 },
 "nbformat": 4,
 "nbformat_minor": 5
}
