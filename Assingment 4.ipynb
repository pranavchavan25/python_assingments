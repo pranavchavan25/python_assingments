{
 "cells": [
  {
   "cell_type": "code",
   "execution_count": 1,
   "id": "b804b760-9880-4ade-b44c-e7794ddae3c5",
   "metadata": {},
   "outputs": [
    {
     "name": "stdout",
     "output_type": "stream",
     "text": [
      "Calculator\n",
      " 1.Addition\n",
      "2.Subtraction\n",
      "3.multiplication\n",
      "4.Division\n",
      "5.Exit\n",
      "\n",
      "\n",
      "\n",
      "\n"
     ]
    },
    {
     "name": "stdin",
     "output_type": "stream",
     "text": [
      "Choose an option 1/2/3/4/5 2\n",
      "enter a number 1 5\n",
      "enter a number 2 2\n"
     ]
    },
    {
     "name": "stdout",
     "output_type": "stream",
     "text": [
      "3\n"
     ]
    },
    {
     "name": "stdin",
     "output_type": "stream",
     "text": [
      "Choose an option 1/2/3/4/5 4\n",
      "enter a number 1 50\n",
      "enter a number 2 5\n"
     ]
    },
    {
     "name": "stdout",
     "output_type": "stream",
     "text": [
      "10.0\n"
     ]
    },
    {
     "name": "stdin",
     "output_type": "stream",
     "text": [
      "Choose an option 1/2/3/4/5 5\n"
     ]
    },
    {
     "name": "stdout",
     "output_type": "stream",
     "text": [
      "Exit\n"
     ]
    }
   ],
   "source": [
    "# Q.1Number opreations menu\n",
    "print(\"Calculator\\n 1.Addition\\n2.Subtraction\\n3.multiplication\\n4.Division\\n5.Exit\")\n",
    "\n",
    "\n",
    "def addition(num1,num2):\n",
    "        sum = num1+num2\n",
    "        return sum\n",
    "    \n",
    "print()\n",
    "\n",
    "def subtraction (num1,num2):\n",
    "    sub = num1 - num2\n",
    "    return sub\n",
    "\n",
    "print()\n",
    "\n",
    "def product(num1,num2):\n",
    "    multiply = num1*num2\n",
    "    return multiply\n",
    "\n",
    "print()\n",
    "\n",
    "def division(num1,num2):\n",
    "    div = num1/num2\n",
    "    return div\n",
    "\n",
    "print()\n",
    "\n",
    "option = 0\n",
    "\n",
    "while(option!=5):\n",
    "    option = int(input(\"Choose an option 1/2/3/4/5\"))\n",
    "\n",
    "    if option in [1,2,3,4]:\n",
    "        num1 = int(input(\"enter a number 1\"))\n",
    "        num2 = int(input(\"enter a number 2\"))\n",
    "\n",
    "        if (option == 1):\n",
    "            print(addition(num1,num2))\n",
    "        elif (option == 2):\n",
    "            print(subtraction(num1,num2))\n",
    "        elif (option == 3):\n",
    "            print(product(num1,num2))\n",
    "        elif (option == 4):\n",
    "            print(division(num1,num2))\n",
    "\n",
    "    elif(option == 5):\n",
    "        print(\"Exit\")\n",
    "\n",
    "    else:\n",
    "        print(\"Please select correct option\")\n"
   ]
  },
  {
   "cell_type": "code",
   "execution_count": 1,
   "id": "0cca195e-aebe-411d-8088-96f3c560e885",
   "metadata": {},
   "outputs": [
    {
     "name": "stdout",
     "output_type": "stream",
     "text": [
      "Menue\n",
      "1.Number is Prime\n",
      "2.Factorial of number\n",
      "3.Exit\n",
      "\n",
      "\n"
     ]
    },
    {
     "name": "stdin",
     "output_type": "stream",
     "text": [
      "Choose an operation 1/2/3 : 1\n",
      "Enter a number to check if it is prime : 10\n"
     ]
    },
    {
     "name": "stdout",
     "output_type": "stream",
     "text": [
      "10is a prime number\n"
     ]
    },
    {
     "name": "stdin",
     "output_type": "stream",
     "text": [
      "Choose an operation 1/2/3 : 2\n",
      "Enter a number to find its factorial: 10\n"
     ]
    },
    {
     "name": "stdout",
     "output_type": "stream",
     "text": [
      "10! = 3628800\n"
     ]
    },
    {
     "name": "stdin",
     "output_type": "stream",
     "text": [
      "Choose an operation 1/2/3 : 3\n"
     ]
    },
    {
     "name": "stdout",
     "output_type": "stream",
     "text": [
      "Exit\n"
     ]
    }
   ],
   "source": [
    "# Q.2 Number Operation menu\n",
    "print(\"Menue\\n1.Number is Prime\\n2.Factorial of number\\n3.Exit\")\n",
    "\n",
    "def is_prime(num):\n",
    "    if num < 2:\n",
    "        is_prime = False\n",
    "    else:\n",
    "        for i in range(2,num):\n",
    "            if num % i == 0:\n",
    "                is_prime = False\n",
    "    return True\n",
    "    \n",
    "print()\n",
    "\n",
    "def factorial(num):\n",
    "    if(num==1 or num==0):\n",
    "        print(1)\n",
    "    else:\n",
    "        fact = 1\n",
    "        for i in range(1,num+1):\n",
    "            fact= fact* i \n",
    "        print(f\"{num}! = {fact}\")\n",
    "        \n",
    "           \n",
    "print()\n",
    "operation = 0\n",
    "while (operation!=3):\n",
    "    operation = int(input(\"Choose an operation 1/2/3 :\"))\n",
    "    if(operation == 1):\n",
    "         num = int(input(\"Enter a number to check if it is prime :\"))\n",
    "         if is_prime(num):\n",
    "                print(f\"{num}is a prime number\")\n",
    "         else:\n",
    "               print(f\"{num}is not a prime number\")\n",
    "      \n",
    "    elif(operation == 2):\n",
    "        num = int(input(\"Enter a number to find its factorial:\"))\n",
    "        factorial(num)\n",
    "    \n",
    "    elif(operation == 3):\n",
    "        print(\"Exit\")\n",
    "    else:\n",
    "        print(\"please select correct operation\")"
   ]
  },
  {
   "cell_type": "code",
   "execution_count": 2,
   "id": "f4ab3964-e7e0-4657-9121-ca600bdf7e40",
   "metadata": {},
   "outputs": [
    {
     "name": "stdin",
     "output_type": "stream",
     "text": [
      "enter a file name: copy.txt\n"
     ]
    },
    {
     "name": "stdout",
     "output_type": "stream",
     "text": [
      "Content has been copied successfully !!\n",
      "pythone class is active!!\n",
      "pranav is a sutudent here !!pranav is a sutudent here !!\n"
     ]
    }
   ],
   "source": [
    "import os\n",
    "\n",
    "def Read_file_data(filename):\n",
    "    if(os.path.exists(filename)):\n",
    "        try: \n",
    "            with open(filename,\"r\") as read_data:\n",
    "                COPY_data = read_data.read()\n",
    "    \n",
    "                copy_file_data(COPY_data)\n",
    "        except Exception as e:\n",
    "            print(\"Error:\",e)\n",
    "        finally:\n",
    "            read_data.close()\n",
    "    else:\n",
    "        print(\"File doed not exists. \")\n",
    "        \n",
    "\n",
    "def copy_file_data(data):\n",
    "    with open(\"copy.txt\",\"w\") as copy_data:\n",
    "        copy_data.write(data)\n",
    "    print(\"Content has been copied successfully !!\")\n",
    "    copy_data.close()\n",
    "\n",
    "    with open(\"copy.txt\",\"r\") as read_copy_data:\n",
    "        print(read_copy_data.read())\n",
    "    read_copy_data.close()\n",
    "\n",
    "filename = input(\"enter a file name:\")\n",
    "Read_file_data(filename)\n"
   ]
  },
  {
   "cell_type": "code",
   "execution_count": 3,
   "id": "0476be52-87e4-4fa5-952c-f048d652de19",
   "metadata": {},
   "outputs": [
    {
     "name": "stdin",
     "output_type": "stream",
     "text": [
      "Enter a file name: copy.txt\n",
      "Enter a file name: text1.txt\n"
     ]
    },
    {
     "name": "stdout",
     "output_type": "stream",
     "text": [
      "Error name 'ope' is not defined\n"
     ]
    }
   ],
   "source": [
    "import os\n",
    "\n",
    "def comparing_files(File1,File2):\n",
    "    if(not os.path.exists(File1)):\n",
    "        print(f\"{File1}not exists\")\n",
    "    elif(not os.path.exists(File2)):\n",
    "        print(f\"{File2}not exists\")\n",
    "    else:\n",
    "        try:\n",
    "            with open(File1,\"r\") as read_data:\n",
    "                R1_data = read_data.read()\n",
    "            with ope(File2,\"r\") as read_data2:\n",
    "                R2_data = read_data2.read()\n",
    "\n",
    "            if(R1_data == R2_data):\n",
    "                print(\"Both File Content are same.\")\n",
    "            else:\n",
    "                print(\"Both File Content are not same.!!\")\n",
    "\n",
    "            read_data.close()\n",
    "            read_data2.close()\n",
    "        except Exception as e:\n",
    "            print(\"Error\",e)\n",
    "\n",
    "    # else:\n",
    "    #     print(\"File dosenot exists.\")\n",
    "\n",
    "File1 = input(\"Enter a file name:\")\n",
    "File2 = input(\"Enter a file name:\")\n",
    "comparing_files(File1,File2)\n",
    "        "
   ]
  },
  {
   "cell_type": "code",
   "execution_count": 4,
   "id": "7fad96a8-e0ec-4c00-80e0-0d745c7a2bd9",
   "metadata": {},
   "outputs": [
    {
     "name": "stdout",
     "output_type": "stream",
     "text": [
      "<class 'str'>\n",
      "<class 'int'>\n",
      "12345\n",
      "15\n"
     ]
    }
   ],
   "source": [
    "# Q.4 \n",
    "with open(\"text2.txt\",\"w\") as write_file:\n",
    "    write_file.write(\"12345\")\n",
    "write_file.close()\n",
    "\n",
    "\n",
    "with open(\"text2.txt\",\"r\") as read_file:\n",
    "    num = read_file.read()\n",
    "    print(type(num))\n",
    "    number = int(num)\n",
    "    print(type(number))\n",
    "# read_file.close()\n",
    "\n",
    "# result = sum_digit(s)\n",
    "# def sum_digit(s):\n",
    "print(number)\n",
    "sum = 0\n",
    "while(number>0):\n",
    "    remainder = number % 10\n",
    "    sum = sum + remainder\n",
    "    number = number // 10\n",
    "print(sum)"
   ]
  },
  {
   "cell_type": "code",
   "execution_count": 9,
   "id": "c3aa4239-03ab-4c21-9d4e-5d5175b69781",
   "metadata": {},
   "outputs": [
    {
     "name": "stdout",
     "output_type": "stream",
     "text": [
      "['12', '34', '50']\n",
      "12 <class 'int'>\n",
      "34 <class 'int'>\n",
      "50 <class 'int'>\n",
      "Total sum of numbers in the file 96\n"
     ]
    }
   ],
   "source": [
    "# Q.5\n",
    "with open(\"Number.txt\",\"w\") as write_file:\n",
    "    write_file.write(\"12 34 50\")\n",
    "write_file.close()\n",
    "\n",
    "\n",
    "with open(\"Number.txt\",\"r\") as read_file:\n",
    "    number = read_file.read()\n",
    "read_file.close()\n",
    "\n",
    "num = number.split()\n",
    "print(num)\n",
    "\n",
    "sum = 0\n",
    "for i in num:\n",
    "    # print(i,type(i))\n",
    "    values = int(i)\n",
    "    print(values,type(values))\n",
    "    sum += values\n",
    "    \n",
    "print(\"Total sum of numbers in the file\",sum)"
   ]
  },
  {
   "cell_type": "code",
   "execution_count": null,
   "id": "2684fd50-af9a-4e19-bad3-a38e8ecbaaa1",
   "metadata": {},
   "outputs": [],
   "source": []
  }
 ],
 "metadata": {
  "kernelspec": {
   "display_name": "Python 3 (ipykernel)",
   "language": "python",
   "name": "python3"
  },
  "language_info": {
   "codemirror_mode": {
    "name": "ipython",
    "version": 3
   },
   "file_extension": ".py",
   "mimetype": "text/x-python",
   "name": "python",
   "nbconvert_exporter": "python",
   "pygments_lexer": "ipython3",
   "version": "3.13.3"
  }
 },
 "nbformat": 4,
 "nbformat_minor": 5
}
