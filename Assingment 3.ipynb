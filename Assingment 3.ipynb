{
 "cells": [
  {
   "cell_type": "markdown",
   "id": "9ab6b9fb-0585-446b-b3b6-5244f06ae27c",
   "metadata": {},
   "source": [
    "# Part A: Conditional statement"
   ]
  },
  {
   "cell_type": "code",
   "execution_count": 1,
   "id": "932a6eaf-aca6-4312-85f3-d537bfcbcf5c",
   "metadata": {},
   "outputs": [
    {
     "name": "stdin",
     "output_type": "stream",
     "text": [
      "enter a number 20\n"
     ]
    },
    {
     "name": "stdout",
     "output_type": "stream",
     "text": [
      "number is Even 20\n"
     ]
    }
   ],
   "source": [
    "num = int(input(\"enter a number\"))\n",
    "if(num%2==0):\n",
    "    print(\"number is Even\",num)\n",
    "else:\n",
    "    print(\"number is Odd \",num)"
   ]
  },
  {
   "cell_type": "code",
   "execution_count": 2,
   "id": "40c06eab-7f8c-458d-80f4-970b29091855",
   "metadata": {},
   "outputs": [
    {
     "name": "stdin",
     "output_type": "stream",
     "text": [
      "first number 35\n",
      "second number 20\n"
     ]
    },
    {
     "name": "stdout",
     "output_type": "stream",
     "text": [
      "the larger number is 35\n"
     ]
    }
   ],
   "source": [
    "a = int(input(\"first number\"))\n",
    "b = int(input(\"second number\"))\n",
    "\n",
    "if(a>b):\n",
    "    print(\"the larger number is\",a)\n",
    "elif(a==b):\n",
    "    print(\"the numbers are equal\")\n",
    "else:\n",
    "    print(\"the larger number is\",b)"
   ]
  },
  {
   "cell_type": "code",
   "execution_count": 3,
   "id": "32926585-b25b-4626-8cc0-686ac1174072",
   "metadata": {},
   "outputs": [
    {
     "name": "stdout",
     "output_type": "stream",
     "text": [
      "fail\n"
     ]
    }
   ],
   "source": [
    "score = 39\n",
    "if(score>=40):\n",
    "    print(\"pass\")\n",
    "else:\n",
    "   print(\"fail\")"
   ]
  },
  {
   "cell_type": "code",
   "execution_count": 16,
   "id": "77c729bf-e80f-49a9-8d94-bf44c0258351",
   "metadata": {},
   "outputs": [
    {
     "name": "stdin",
     "output_type": "stream",
     "text": [
      "enter weight in Kg: 60\n",
      "enter height in meters: 1.78\n"
     ]
    },
    {
     "name": "stdout",
     "output_type": "stream",
     "text": [
      "your BMI is: 18.0\n",
      "weight status: Underweight\n"
     ]
    }
   ],
   "source": [
    "weight_kg = float(input(\"enter weight in Kg:\"))\n",
    "height_m = float(input(\"enter height in meters:\"))\n",
    "\n",
    "bmi = (weight_kg)//(height_m*height_m)\n",
    "\n",
    "if(bmi<18.5):\n",
    "    weight_status =\"Underweight\"\n",
    "elif(18.5>= bmi <25):\n",
    "    weight_status =\"Normal Weight\"\n",
    "elif(25>= bmi<30):\n",
    "    weight_status= \"Over Weight\"\n",
    "else:\n",
    "    weight_status =\"Obese\"\n",
    "\n",
    "print(\"your BMI is:\",bmi)\n",
    "print(\"weight status:\",weight_status)"
   ]
  },
  {
   "cell_type": "markdown",
   "id": "f09876a4-225f-45de-a727-9ba0e78f6e77",
   "metadata": {},
   "source": [
    "# Part B: For Loops"
   ]
  },
  {
   "cell_type": "code",
   "execution_count": 6,
   "id": "3d6238e7-dba7-45b1-9f01-2efe086bae1e",
   "metadata": {},
   "outputs": [
    {
     "name": "stdin",
     "output_type": "stream",
     "text": [
      " 10\n"
     ]
    },
    {
     "name": "stdout",
     "output_type": "stream",
     "text": [
      "55\n"
     ]
    }
   ],
   "source": [
    "sum = 0\n",
    "n = input()\n",
    "N = int(n)\n",
    "\n",
    "for i in range(1,N+1):\n",
    "    sum += i\n",
    "print(sum)"
   ]
  },
  {
   "cell_type": "code",
   "execution_count": 7,
   "id": "a7d601ec-5b20-44fd-b2bf-b8a5fdb2135b",
   "metadata": {},
   "outputs": [
    {
     "name": "stdout",
     "output_type": "stream",
     "text": [
      "7*1 = 7\n",
      "7*2 = 14\n",
      "7*3 = 21\n",
      "7*4 = 28\n",
      "7*5 = 35\n",
      "7*6 = 42\n",
      "7*7 = 49\n",
      "7*8 = 56\n",
      "7*9 = 63\n",
      "7*10 = 70\n"
     ]
    }
   ],
   "source": [
    "for i in range(1,11):\n",
    "    print(f\"7*{i} = {7 * i }\")"
   ]
  },
  {
   "cell_type": "code",
   "execution_count": 25,
   "id": "26da4d82-75d8-4dfb-9e15-c7d9a7097b91",
   "metadata": {},
   "outputs": [
    {
     "name": "stdin",
     "output_type": "stream",
     "text": [
      "enter a sentence hello world\n"
     ]
    },
    {
     "name": "stdout",
     "output_type": "stream",
     "text": [
      "Numbers of vowels in the sentence : 3\n"
     ]
    }
   ],
   "source": [
    "sentence = input(\"enter a sentence\")\n",
    "count =  0\n",
    "# vowels = \"aeiou\"\n",
    "\n",
    "for i in sentence:\n",
    "    if (i == 'a'  or i == 'e' or i== 'o' or i == 'u'):\n",
    "        count += 1\n",
    "\n",
    "print(\"Numbers of vowels in the sentence :\",count)"
   ]
  },
  {
   "cell_type": "code",
   "execution_count": 10,
   "id": "e710fb75-51de-4ed5-a5cf-1aa22c627bae",
   "metadata": {},
   "outputs": [
    {
     "name": "stdin",
     "output_type": "stream",
     "text": [
      "Enter a number: 20\n"
     ]
    },
    {
     "name": "stdout",
     "output_type": "stream",
     "text": [
      "prime numbers upto 20 are\n"
     ]
    }
   ],
   "source": [
    "n = int(input(\"Enter a number:\"))\n",
    "print(\"prime numbers upto\",n,\"are\")\n",
    "\n",
    "for num in range(2,n+1):\n",
    "    is_prime = True\n",
    "for i in range(2,int(num ** 0.5)+1):\n",
    "    if(num % i == 0):\n",
    "        is_prime = False\n",
    "                                                                #not give output\n",
    "\n",
    "if is_prime:\n",
    "    print(num, end='')"
   ]
  },
  {
   "cell_type": "code",
   "execution_count": 26,
   "id": "773cab12-4f47-4216-a4cc-62aecab8de9f",
   "metadata": {},
   "outputs": [
    {
     "name": "stdout",
     "output_type": "stream",
     "text": [
      "1\n",
      "2\n",
      "3\n",
      "4\n",
      "5\n",
      "[5, 6, 7, 8, 9]\n"
     ]
    }
   ],
   "source": [
    "5.\n",
    "lst = [1,2,3,4,5]\n",
    "new_lst = []\n",
    "for i in lst:\n",
    "    print(i)\n",
    "    a = (i + 4)\n",
    "    new_lst.append(a)\n",
    "print(new_lst)"
   ]
  },
  {
   "cell_type": "markdown",
   "id": "7bb2ee98-b9f4-4264-892f-bc91f9195696",
   "metadata": {},
   "source": [
    "# Part A: For Loop Tasks"
   ]
  },
  {
   "cell_type": "code",
   "execution_count": 11,
   "id": "0d15df19-06b6-4fdd-9f92-e5449d30f658",
   "metadata": {},
   "outputs": [
    {
     "name": "stdout",
     "output_type": "stream",
     "text": [
      "50\n",
      "52\n",
      "54\n",
      "56\n",
      "58\n",
      "60\n",
      "62\n",
      "64\n",
      "66\n",
      "68\n",
      "70\n",
      "72\n",
      "74\n",
      "76\n",
      "78\n",
      "80\n",
      "82\n",
      "84\n",
      "86\n",
      "88\n",
      "90\n",
      "92\n",
      "94\n",
      "96\n",
      "98\n",
      "100\n"
     ]
    }
   ],
   "source": [
    "for num in range(50,101):\n",
    "    if num% 2 == 0:\n",
    "        print(num)"
   ]
  },
  {
   "cell_type": "code",
   "execution_count": 12,
   "id": "25afb7be-3bb6-4db7-bd0a-18719d6ab7ed",
   "metadata": {},
   "outputs": [
    {
     "name": "stdout",
     "output_type": "stream",
     "text": [
      "78\n",
      "109\n",
      "34\n",
      "90\n",
      "29\n",
      "45\n"
     ]
    }
   ],
   "source": [
    "L1 = [78,109,34,25,24,90,12,29,45,9,0,10]\n",
    "for num in L1:\n",
    "    if num >25:\n",
    "        print(num)"
   ]
  },
  {
   "cell_type": "code",
   "execution_count": 35,
   "id": "c3a1310b-5a68-4df4-9147-baa8d77e644d",
   "metadata": {},
   "outputs": [
    {
     "name": "stdout",
     "output_type": "stream",
     "text": [
      "7 3\n"
     ]
    }
   ],
   "source": [
    "3.\n",
    "str = \"hello world\"\n",
    "v = 0 \n",
    "c = 0 \n",
    "for i in str:\n",
    "    if (i == 'a'  or i == 'e' or i== 'o' or i == 'u'):\n",
    "        v += 1\n",
    "    else:\n",
    "        if(i==\" \"):\n",
    "            continue\n",
    "        c +=1\n",
    "print(c,v)"
   ]
  },
  {
   "cell_type": "code",
   "execution_count": 13,
   "id": "f7ff2888-bff6-4922-aac0-586baedd622e",
   "metadata": {},
   "outputs": [
    {
     "name": "stdout",
     "output_type": "stream",
     "text": [
      "sneha\n",
      "arjun\n",
      "priya\n",
      "meena\n"
     ]
    }
   ],
   "source": [
    "employees = {\"rahul\":48000,\n",
    "            \"sneha\":56000,\n",
    "            \"arjun\": 75000,\n",
    "            \"priya\":52000,\n",
    "            \"karan\":45000,\n",
    "             \"meena\":61000}\n",
    "for name,salary in employees.items():\n",
    "    if salary> 50000:\n",
    "        print(name)"
   ]
  },
  {
   "cell_type": "code",
   "execution_count": 43,
   "id": "27b97940-d3f8-4193-88f6-a935d8f8ae64",
   "metadata": {},
   "outputs": [
    {
     "name": "stdout",
     "output_type": "stream",
     "text": [
      "length of book = 5\n",
      "0 - to kill a mockingbird\n",
      "1 - 1984\n",
      "2 - pride and prejudice\n",
      "3 - the alchemist\n",
      "4 - the great gatsby\n"
     ]
    }
   ],
   "source": [
    "books = [\"to kill a mockingbird\",\"1984\",\"pride and prejudice\",\"the alchemist\",\"the great gatsby\"]\n",
    "\n",
    "print(\"length of book =\",len(books))\n",
    "for index in range(len(books)):\n",
    "    print(index,\"-\",books[index])"
   ]
  },
  {
   "cell_type": "code",
   "execution_count": 1,
   "id": "39583eb3-5a83-4465-b4eb-d8f65899910f",
   "metadata": {},
   "outputs": [
    {
     "name": "stdin",
     "output_type": "stream",
     "text": [
      "enter a number 123\n"
     ]
    },
    {
     "name": "stdout",
     "output_type": "stream",
     "text": [
      "6\n"
     ]
    }
   ],
   "source": [
    "num= int(input(\"enter a number\"))\n",
    "sum = 0\n",
    "while(num>0):\n",
    "    remainder = num % 10\n",
    "    sum = sum + remainder\n",
    "    num = num // 10\n",
    "print(sum)"
   ]
  },
  {
   "cell_type": "code",
   "execution_count": 5,
   "id": "0f94ed38-cfe3-4260-a64a-d438ea90a8df",
   "metadata": {},
   "outputs": [
    {
     "name": "stdout",
     "output_type": "stream",
     "text": [
      "0\n",
      "15\n",
      "30\n",
      "45\n",
      "60\n",
      "75\n",
      "90\n"
     ]
    }
   ],
   "source": [
    "for num in range(0,101):\n",
    "    if num% 3 == 0 and num% 5 == 0:\n",
    "        print(num)\n",
    "    "
   ]
  },
  {
   "cell_type": "code",
   "execution_count": 45,
   "id": "25c600c5-4342-45b7-8599-e5858bf5ea81",
   "metadata": {},
   "outputs": [
    {
     "name": "stdout",
     "output_type": "stream",
     "text": [
      "[6, 120, 5040, 24]\n"
     ]
    }
   ],
   "source": [
    "lst = [3,5,7,4]\n",
    "new_lst = []\n",
    "for i in lst:\n",
    "    fact = 1\n",
    "    for j in range(1,i+1):\n",
    "        fact = fact*j\n",
    "    new_lst.append(fact)\n",
    "print(new_lst)"
   ]
  },
  {
   "cell_type": "code",
   "execution_count": 9,
   "id": "a9c8fc7a-263b-4068-948f-4ef3e6771ea3",
   "metadata": {},
   "outputs": [
    {
     "name": "stdout",
     "output_type": "stream",
     "text": [
      "11\n",
      "13\n",
      "17\n",
      "19\n",
      "23\n",
      "29\n",
      "31\n",
      "37\n",
      "41\n",
      "43\n",
      "47\n",
      "53\n",
      "59\n",
      "61\n",
      "67\n",
      "71\n",
      "73\n",
      "79\n",
      "83\n",
      "89\n",
      "97\n"
     ]
    }
   ],
   "source": [
    "for num in range(10 ,101):\n",
    "    is_prime = True\n",
    "    if num < 2:\n",
    "        is_prime = False\n",
    "    else:\n",
    "        for i in range(2,int(num ** 0.5) + 1):\n",
    "            if num % i == 0:\n",
    "                is_prime = False\n",
    "    \n",
    "    if is_prime:\n",
    "        print(num)"
   ]
  },
  {
   "cell_type": "code",
   "execution_count": 11,
   "id": "8dd9147c-d1b2-433b-bdb4-7f5f56aa4bdf",
   "metadata": {},
   "outputs": [
    {
     "name": "stdin",
     "output_type": "stream",
     "text": [
      "enter a integer : 1\n",
      "enter a integer : 2\n",
      "enter a integer : 3\n",
      "enter a integer : 4\n",
      "enter a integer : 5\n",
      "enter a integer : 6\n",
      "enter a integer : 7\n",
      "enter a integer : 8\n",
      "enter a integer : 9\n",
      "enter a integer : 10\n"
     ]
    },
    {
     "name": "stdout",
     "output_type": "stream",
     "text": [
      "Even numbers from the list are : [2, 4, 6, 8, 10]\n"
     ]
    }
   ],
   "source": [
    "even_numbers = []\n",
    "\n",
    "for i in range(10):\n",
    "    num = int(input(\"enter a integer :\"))\n",
    "    if num % 2 == 0:\n",
    "        even_numbers.append(num)\n",
    "\n",
    "print(\"Even numbers from the list are :\", even_numbers)"
   ]
  },
  {
   "cell_type": "code",
   "execution_count": null,
   "id": "a332373d-57ab-47b5-b0c4-1fdadcad7659",
   "metadata": {},
   "outputs": [],
   "source": []
  }
 ],
 "metadata": {
  "kernelspec": {
   "display_name": "Python 3 (ipykernel)",
   "language": "python",
   "name": "python3"
  },
  "language_info": {
   "codemirror_mode": {
    "name": "ipython",
    "version": 3
   },
   "file_extension": ".py",
   "mimetype": "text/x-python",
   "name": "python",
   "nbconvert_exporter": "python",
   "pygments_lexer": "ipython3",
   "version": "3.13.3"
  }
 },
 "nbformat": 4,
 "nbformat_minor": 5
}
