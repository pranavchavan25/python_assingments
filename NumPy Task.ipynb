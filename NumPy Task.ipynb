{
 "cells": [
  {
   "cell_type": "code",
   "execution_count": 2,
   "id": "bdf04035-f0f1-42c3-94fa-41266e6b1561",
   "metadata": {},
   "outputs": [
    {
     "name": "stdout",
     "output_type": "stream",
     "text": [
      "[[23 21 32]\n",
      " [35 45 20]]\n",
      "(2, 3)\n"
     ]
    }
   ],
   "source": [
    "# Q.1\n",
    "import numpy as np\n",
    "\n",
    "arr1 = np.random.randint(20,50,size = (2,3))\n",
    "print(arr1)\n",
    "print(arr1.shape)"
   ]
  },
  {
   "cell_type": "code",
   "execution_count": 9,
   "id": "3b2b4a0e-8442-462a-973f-8bcc4994ad99",
   "metadata": {},
   "outputs": [
    {
     "name": "stdout",
     "output_type": "stream",
     "text": [
      "[[[48 69 61]\n",
      "  [ 4 23  3]]\n",
      "\n",
      " [[58 90 67]\n",
      "  [33 98 20]]]\n",
      "(2, 2, 3)\n"
     ]
    }
   ],
   "source": [
    "# Q.2\n",
    "arr2 = np.random.randint(1,100,size = (2,2,3))\n",
    "print(arr2)\n",
    "print(arr2.shape)"
   ]
  },
  {
   "cell_type": "code",
   "execution_count": 13,
   "id": "a635e9f7-186b-4b81-9f45-d67f101216cf",
   "metadata": {},
   "outputs": [
    {
     "name": "stdout",
     "output_type": "stream",
     "text": [
      "[[False False False False]\n",
      " [False False  True  True]]\n",
      "[[ True  True  True  True]\n",
      " [ True  True  True  True]]\n",
      "[[False False  True False]\n",
      " [False False False False]]\n",
      "[[ True  True False  True]\n",
      " [ True  True False False]]\n",
      "[[ True  True  True  True]\n",
      " [ True  True False False]]\n",
      "[[False False  True False]\n",
      " [False False  True  True]]\n",
      "[[ True  True False  True]\n",
      " [ True  True  True  True]]\n",
      "[[ True  True  True  True]\n",
      " [ True  True  True  True]]\n",
      "False\n",
      "True\n",
      "False\n",
      "True\n",
      "True\n",
      "True\n",
      "(array([0]), array([2]))\n"
     ]
    }
   ],
   "source": [
    "# Q.3\n",
    "# 2D\n",
    "\n",
    "a1 = np.array([ [10,56,78,3],[19,56,77,88] ])\n",
    "a2 = np.array([ [29,67,45,9],[100,66,77,88] ])\n",
    "a3 = np.array([ [29,67,45,9], [100,66,77,88] ])\n",
    "\n",
    "print(a1==a2)\n",
    "print(a2==a3)\n",
    "print(a1>a2)\n",
    "print(a1<a2)\n",
    "print(a1!=a2)\n",
    "print(a1>=a2)\n",
    "print(a1<=a2)\n",
    "print(a2>=a3)\n",
    "\n",
    "print(np.array_equal(a1,a2))\n",
    "print(np.array_equal(a2,a3))\n",
    "print(np.all(a1>a2))\n",
    "print(np.all(a2==a3))\n",
    "print(np.any(a1==a2))\n",
    "print(np.any(a1>a2))\n",
    "print(np.where(a1>a2))"
   ]
  },
  {
   "cell_type": "code",
   "execution_count": 15,
   "id": "010a8b5b-0b0c-4175-ad3c-c13e2a06da45",
   "metadata": {},
   "outputs": [
    {
     "name": "stdout",
     "output_type": "stream",
     "text": [
      "[[[False False  True  True False]\n",
      "  [ True False False False False]]\n",
      "\n",
      " [[False False False False  True]\n",
      "  [False False False False False]]]\n",
      "[[[ True  True  True  True  True]\n",
      "  [ True  True  True  True  True]]\n",
      "\n",
      " [[ True  True  True  True  True]\n",
      "  [ True  True  True  True  True]]]\n",
      "[[[ True  True False False  True]\n",
      "  [False  True False False False]]\n",
      "\n",
      " [[False False  True  True False]\n",
      "  [False False False False False]]]\n",
      "[[[False False False False False]\n",
      "  [False False  True  True  True]]\n",
      "\n",
      " [[ True  True False False False]\n",
      "  [ True  True  True  True  True]]]\n",
      "[[[ True  True False False  True]\n",
      "  [False  True  True  True  True]]\n",
      "\n",
      " [[ True  True  True  True False]\n",
      "  [ True  True  True  True  True]]]\n",
      "[[[ True  True  True  True  True]\n",
      "  [ True  True False False False]]\n",
      "\n",
      " [[False False  True  True  True]\n",
      "  [False False False False False]]]\n",
      "[[[False False  True  True False]\n",
      "  [ True False  True  True  True]]\n",
      "\n",
      " [[ True  True False False  True]\n",
      "  [ True  True  True  True  True]]]\n",
      "[[[ True  True  True  True  True]\n",
      "  [ True  True  True  True  True]]\n",
      "\n",
      " [[ True  True  True  True  True]\n",
      "  [ True  True  True  True  True]]]\n",
      "False\n",
      "True\n",
      "False\n",
      "True\n",
      "True\n",
      "True\n",
      "(array([0, 0, 0, 0, 1, 1]), array([0, 0, 0, 1, 0, 0]), array([0, 1, 4, 1, 2, 3]))\n"
     ]
    }
   ],
   "source": [
    "# 3D\n",
    "\n",
    "a1 = np.array([\n",
    "   [[28,90,6,4,89],[23,17,56,3,8]],\n",
    "    [[10,20,30,40,50],[1,2,3,6,8]],\n",
    "])\n",
    "\n",
    "a2 = np.array([\n",
    "    [[19,70,6,4,0],[23,1,536,13,80]],\n",
    "    [[12,23,10,0,50],[11,21,31,61,81]],\n",
    "])\n",
    "\n",
    "a3 = np.array([\n",
    "    [[19,70,6,4,0],[23,1,536,13,80]],\n",
    "    [[12,23,10,0,50],[11,21,31,61,81]],\n",
    "])\n",
    "\n",
    "print(a1==a2)\n",
    "print(a2==a3)\n",
    "print(a1>a2)\n",
    "print(a1<a2)\n",
    "print(a1!=a2)\n",
    "print(a1>=a2)\n",
    "print(a1<=a2)\n",
    "print(a2>=a3)\n",
    "\n",
    "print(np.array_equal(a1,a2))\n",
    "print(np.array_equal(a2,a3))\n",
    "print(np.all(a1>a2))\n",
    "print(np.all(a2==a3))\n",
    "print(np.any(a1==a2))\n",
    "print(np.any(a1>a2))\n",
    "print(np.where(a1>a2))"
   ]
  },
  {
   "cell_type": "code",
   "execution_count": 35,
   "id": "238916bd-b00d-4620-a089-223829d650b0",
   "metadata": {},
   "outputs": [
    {
     "name": "stdout",
     "output_type": "stream",
     "text": [
      "30\n",
      "60\n",
      "\n",
      "120\n"
     ]
    }
   ],
   "source": [
    "# Q.4\n",
    "arr_2d_2 = np.array([[10,20],[30,40],[50,60]])\n",
    "print(arr_2d_2[1,0])\n",
    "print(arr_2d_2[2,1])\n",
    "\n",
    "print()\n",
    "\n",
    "arr_3d_2 = np.array([\n",
    "    [[10,20,30],[40,50,60]],\n",
    "    [[70,80,90],[100,110,120]]\n",
    "])\n",
    "\n",
    "print(arr_3d_2[1,1,2])"
   ]
  },
  {
   "cell_type": "code",
   "execution_count": 3,
   "id": "1509c069-e953-4ffa-bd56-dc3f1661f34a",
   "metadata": {},
   "outputs": [
    {
     "name": "stdout",
     "output_type": "stream",
     "text": [
      "[82 90 43 99 78 99 35 44]\n"
     ]
    }
   ],
   "source": [
    "# Q.5\n",
    "\n",
    "a2 = np.array([\n",
    "    [82,90,43,6,99],\n",
    "    [78,99,35,6,44],\n",
    "])\n",
    "\n",
    "print(a2[a2>30])"
   ]
  },
  {
   "cell_type": "code",
   "execution_count": 10,
   "id": "aeab9e3d-17d3-495f-a22e-bfdec5ee9bec",
   "metadata": {},
   "outputs": [
    {
     "name": "stdout",
     "output_type": "stream",
     "text": [
      "[ 82  90  43  99  78  99  35  44 110 236 789 462 931]\n"
     ]
    }
   ],
   "source": [
    "a3 = np.array([\n",
    "    [82,90,43,6,99],\n",
    "    [78,99,35,6,44],\n",
    "    [19,18,17,16,15],\n",
    "    [110,236,789,462,931],\n",
    "])\n",
    "\n",
    "print(a3[a3>30])"
   ]
  },
  {
   "cell_type": "code",
   "execution_count": 21,
   "id": "377eeeb4-bef8-4f33-8143-917c61d7c8d5",
   "metadata": {},
   "outputs": [
    {
     "name": "stdout",
     "output_type": "stream",
     "text": [
      "[90 67 88]\n"
     ]
    }
   ],
   "source": [
    "a2d = np.array([\n",
    "    [10,56,78,3],\n",
    "    [1,2,3,4],\n",
    "    [10,90,67,88]\n",
    "])\n",
    "\n",
    "print(a2d[2][a2d[2]>50])"
   ]
  },
  {
   "cell_type": "code",
   "execution_count": 34,
   "id": "1f2a7100-7956-4203-9a3d-5dce9a8bb94d",
   "metadata": {},
   "outputs": [
    {
     "name": "stdout",
     "output_type": "stream",
     "text": [
      "[6 8]\n"
     ]
    }
   ],
   "source": [
    "a3d = np.array([\n",
    "    [[28,90,6,4,89],[23,17,56,3,8]],\n",
    "    [[10,20,30,40,50],[1,2,3,6,8]],\n",
    "])\n",
    "\n",
    "print(a3d[1,1][a3d[1,1]>5])"
   ]
  },
  {
   "cell_type": "code",
   "execution_count": null,
   "id": "a7e89d19-3326-4bb2-a145-00b3b620e5c4",
   "metadata": {},
   "outputs": [],
   "source": []
  }
 ],
 "metadata": {
  "kernelspec": {
   "display_name": "Python 3 (ipykernel)",
   "language": "python",
   "name": "python3"
  },
  "language_info": {
   "codemirror_mode": {
    "name": "ipython",
    "version": 3
   },
   "file_extension": ".py",
   "mimetype": "text/x-python",
   "name": "python",
   "nbconvert_exporter": "python",
   "pygments_lexer": "ipython3",
   "version": "3.13.3"
  }
 },
 "nbformat": 4,
 "nbformat_minor": 5
}
