{
 "cells": [
  {
   "cell_type": "markdown",
   "id": "2ae2048f-e3ca-4504-91a1-817897c60ebb",
   "metadata": {},
   "source": [
    "TASK 1 - String Basics"
   ]
  },
  {
   "cell_type": "code",
   "execution_count": 7,
   "id": "b86d826a-0593-4a30-8409-44b6e37ff9b6",
   "metadata": {},
   "outputs": [
    {
     "name": "stdout",
     "output_type": "stream",
     "text": [
      "Hello,Pytho World\n",
      "<class 'str'>\n"
     ]
    }
   ],
   "source": [
    "message = \"Hello,Pytho World\"\n",
    "print(message)\n",
    "print(type(message))"
   ]
  },
  {
   "cell_type": "markdown",
   "id": "f94cd5b0-1f67-49f8-ac6a-b505d6c694d7",
   "metadata": {},
   "source": [
    "Task 2 - String indexing and slicing"
   ]
  },
  {
   "cell_type": "code",
   "execution_count": 8,
   "id": "c6c9cc19-638c-4614-83db-b625c04a66e3",
   "metadata": {},
   "outputs": [
    {
     "data": {
      "text/plain": [
       "'H'"
      ]
     },
     "execution_count": 8,
     "metadata": {},
     "output_type": "execute_result"
    }
   ],
   "source": [
    "message[0]"
   ]
  },
  {
   "cell_type": "code",
   "execution_count": 10,
   "id": "eb3d99cd-23ba-4896-abf2-1bb6c4005664",
   "metadata": {},
   "outputs": [
    {
     "data": {
      "text/plain": [
       "'d'"
      ]
     },
     "execution_count": 10,
     "metadata": {},
     "output_type": "execute_result"
    }
   ],
   "source": [
    "message[-1]"
   ]
  },
  {
   "cell_type": "code",
   "execution_count": 11,
   "id": "0e866dd7-515f-4374-9de9-59015da73642",
   "metadata": {},
   "outputs": [
    {
     "data": {
      "text/plain": [
       "'Hello,'"
      ]
     },
     "execution_count": 11,
     "metadata": {},
     "output_type": "execute_result"
    }
   ],
   "source": [
    "message[0:6]"
   ]
  },
  {
   "cell_type": "code",
   "execution_count": 14,
   "id": "3baf22fe-c7f9-471e-8b6e-6fc4822a3768",
   "metadata": {},
   "outputs": [
    {
     "data": {
      "text/plain": [
       "'Hello,Pytho Wo'"
      ]
     },
     "execution_count": 14,
     "metadata": {},
     "output_type": "execute_result"
    }
   ],
   "source": [
    "message[0:14]"
   ]
  },
  {
   "cell_type": "markdown",
   "id": "22f0ebd0-8906-46b5-ae18-ebf377dc1ade",
   "metadata": {},
   "source": [
    "Task 3 - String Methods"
   ]
  },
  {
   "cell_type": "code",
   "execution_count": 23,
   "id": "acebb12b-f25f-4123-8d95-4099948cfc54",
   "metadata": {},
   "outputs": [
    {
     "data": {
      "text/plain": [
       "'HELLO,PYTHO WORLD'"
      ]
     },
     "execution_count": 23,
     "metadata": {},
     "output_type": "execute_result"
    }
   ],
   "source": [
    "message.upper()"
   ]
  },
  {
   "cell_type": "code",
   "execution_count": 46,
   "id": "1360b74a-c349-4e9b-86cd-ff96468cb8b2",
   "metadata": {},
   "outputs": [
    {
     "data": {
      "text/plain": [
       "'hello,python world'"
      ]
     },
     "execution_count": 46,
     "metadata": {},
     "output_type": "execute_result"
    }
   ],
   "source": [
    "message.lower()"
   ]
  },
  {
   "cell_type": "code",
   "execution_count": 4,
   "id": "7603c767-f9dc-443d-b8ec-9374e52173e7",
   "metadata": {},
   "outputs": [
    {
     "data": {
      "text/plain": [
       "'Hello,programming World'"
      ]
     },
     "execution_count": 4,
     "metadata": {},
     "output_type": "execute_result"
    }
   ],
   "source": [
    "message = \"Hello,Python World\"\n",
    "message.replace(\"Python\",\"programming\")       "
   ]
  },
  {
   "cell_type": "code",
   "execution_count": 51,
   "id": "ad2cabe3-6c5d-40f7-b50c-acb836cac632",
   "metadata": {},
   "outputs": [
    {
     "name": "stdout",
     "output_type": "stream",
     "text": [
      "13\n"
     ]
    }
   ],
   "source": [
    "message = \"Hello,Python World\"\n",
    "word = \"World\"\n",
    "position = message.index(word)\n",
    "print(position)"
   ]
  },
  {
   "cell_type": "code",
   "execution_count": 52,
   "id": "56da2eb3-36ad-44d6-9928-601b14ed6bb9",
   "metadata": {},
   "outputs": [
    {
     "name": "stdout",
     "output_type": "stream",
     "text": [
      "3\n"
     ]
    }
   ],
   "source": [
    "message = \"Hello,Python Wrold\"\n",
    "count = message.count(\"o\")\n",
    "print(count)"
   ]
  },
  {
   "cell_type": "markdown",
   "id": "627fa7a9-e652-4b3e-987d-19ed83cd11b1",
   "metadata": {},
   "source": [
    "Task 4 - String Operations"
   ]
  },
  {
   "cell_type": "code",
   "execution_count": 69,
   "id": "4a4f17b6-9646-4324-92c3-01fd72366b12",
   "metadata": {},
   "outputs": [
    {
     "name": "stdout",
     "output_type": "stream",
     "text": [
      "Hello World\n"
     ]
    }
   ],
   "source": [
    "word1= \"Hello\"\n",
    "word2 = \"World\"\n",
    "word3 = word1+ \" \" +word2\n",
    "print(word3)"
   ]
  },
  {
   "cell_type": "code",
   "execution_count": 70,
   "id": "b731cea3-16fd-404b-a2c2-b4a928aea0af",
   "metadata": {},
   "outputs": [
    {
     "name": "stdout",
     "output_type": "stream",
     "text": [
      "Hi!Hi!Hi!\n"
     ]
    }
   ],
   "source": [
    "string = \"Hi!\"\n",
    "print(string*3)"
   ]
  },
  {
   "cell_type": "code",
   "execution_count": 71,
   "id": "8e3315f7-2b95-454a-9cd8-4d838fc2154e",
   "metadata": {},
   "outputs": [
    {
     "name": "stdout",
     "output_type": "stream",
     "text": [
      "18\n"
     ]
    }
   ],
   "source": [
    "message = \"Hello,Python Wrold\"\n",
    "print(len(message))"
   ]
  },
  {
   "cell_type": "markdown",
   "id": "9acfa6e4-18af-4baa-8686-64eec83f3e04",
   "metadata": {},
   "source": [
    "# SET"
   ]
  },
  {
   "cell_type": "markdown",
   "id": "dc6e1ee3-6de1-4d3e-848f-f03ae0e988d1",
   "metadata": {},
   "source": [
    "Task 1 - Set Basics"
   ]
  },
  {
   "cell_type": "code",
   "execution_count": 73,
   "id": "2f0dc8e8-1e87-4ddd-9684-b92f61eb9bd6",
   "metadata": {},
   "outputs": [
    {
     "name": "stdout",
     "output_type": "stream",
     "text": [
      "{'green', 'yellow', 'blue', 'red'}\n",
      "<class 'set'>\n"
     ]
    }
   ],
   "source": [
    "colours = {\"red\",\"blue\",\"green\",\"yellow\"}\n",
    "print(colours)\n",
    "print(type(colours))"
   ]
  },
  {
   "cell_type": "code",
   "execution_count": 75,
   "id": "86e3bc5c-6463-4725-b638-54dce8abb26c",
   "metadata": {},
   "outputs": [
    {
     "name": "stdout",
     "output_type": "stream",
     "text": [
      "{'yellow', 'blue', 'orange', 'red', 'green'}\n"
     ]
    }
   ],
   "source": [
    "colours.add(\"orange\")\n",
    "print(colours)"
   ]
  },
  {
   "cell_type": "code",
   "execution_count": 76,
   "id": "be0ffb2f-3e7b-4268-9a3b-36920cac0bb0",
   "metadata": {},
   "outputs": [
    {
     "name": "stdout",
     "output_type": "stream",
     "text": [
      "{'yellow', 'orange', 'red', 'green'}\n"
     ]
    }
   ],
   "source": [
    "colours.remove(\"blue\")\n",
    "print(colours)"
   ]
  },
  {
   "cell_type": "markdown",
   "id": "a944322a-53ca-46f3-821e-b567a037f601",
   "metadata": {},
   "source": [
    "Task 2 - Set Operations"
   ]
  },
  {
   "cell_type": "code",
   "execution_count": 78,
   "id": "3aa26eb7-0b38-4fd2-90ca-6eb7a03fa590",
   "metadata": {},
   "outputs": [
    {
     "name": "stdout",
     "output_type": "stream",
     "text": [
      "{1, 2, 3, 4, 5, 6, 7, 8}\n",
      "\n",
      "{4, 5}\n",
      "\n",
      "{1, 2, 3}\n",
      "\n",
      "{1, 2, 3, 6, 7, 8}\n"
     ]
    }
   ],
   "source": [
    "set1 = {1,2,3,4,5,3}\n",
    "set2 = {4,5,6,7,8}\n",
    "set3 = set1.union(set2)\n",
    "print(set3)\n",
    "print()\n",
    "\n",
    "set4 = set1.intersection(set2)\n",
    "print(set4)\n",
    "print()\n",
    "\n",
    "set5 = set1.difference(set2)\n",
    "print(set5)\n",
    "print()\n",
    "\n",
    "set6 = set1^set2\n",
    "print(set6)"
   ]
  },
  {
   "cell_type": "markdown",
   "id": "cf82c4c2-7547-4a6f-8631-01e44e53186e",
   "metadata": {},
   "source": [
    "Task 3- Set Properties"
   ]
  },
  {
   "cell_type": "markdown",
   "id": "be4e47dd-0a62-450b-84ba-19e02a60032b",
   "metadata": {},
   "source": [
    "# Dicitionary"
   ]
  },
  {
   "cell_type": "markdown",
   "id": "487a9e78-7d42-4ef5-8193-a5edc15c4dd3",
   "metadata": {},
   "source": [
    "task 1- Dicitionary basics"
   ]
  },
  {
   "cell_type": "code",
   "execution_count": 86,
   "id": "dbd5c992-e88a-482e-a153-b19d55cad7f6",
   "metadata": {},
   "outputs": [
    {
     "name": "stdout",
     "output_type": "stream",
     "text": [
      "{'name': 'pranav', 'age': 20, 'grade': 'B'}\n",
      "<class 'dict'>\n"
     ]
    }
   ],
   "source": [
    "student = {\"name\":\"pranav\",\"age\":20,\"grade\":\"B\"}\n",
    "print(student)\n",
    "print(type(student))"
   ]
  },
  {
   "cell_type": "code",
   "execution_count": 87,
   "id": "bd7bb180-41ca-4093-bda5-477c51b0fc6b",
   "metadata": {},
   "outputs": [
    {
     "name": "stdout",
     "output_type": "stream",
     "text": [
      "pranav\n",
      "B\n"
     ]
    }
   ],
   "source": [
    "output1 = student.get(\"name\")\n",
    "print(output1)\n",
    "output2 = student.get(\"grade\")\n",
    "print(output2)"
   ]
  },
  {
   "cell_type": "markdown",
   "id": "03048070-7794-4e8b-a7fe-c28ba58d7054",
   "metadata": {},
   "source": [
    "Task 2 - Modify Dicitionary"
   ]
  },
  {
   "cell_type": "code",
   "execution_count": 89,
   "id": "2f6707df-89d1-45eb-955c-5e1822fd995f",
   "metadata": {},
   "outputs": [
    {
     "data": {
      "text/plain": [
       "{'name': 'pranav', 'age': 20, 'grade': 'A+'}"
      ]
     },
     "execution_count": 89,
     "metadata": {},
     "output_type": "execute_result"
    }
   ],
   "source": [
    "student[\"grade\"] = \"A+\"\n",
    "student"
   ]
  },
  {
   "cell_type": "code",
   "execution_count": 92,
   "id": "6322121d-b5a1-42b0-bcb3-3f8ac746b068",
   "metadata": {},
   "outputs": [
    {
     "data": {
      "text/plain": [
       "{'name': 'pranav', 'age': 20, 'grade': 'A+', 'city': 'New Yrok'}"
      ]
     },
     "execution_count": 92,
     "metadata": {},
     "output_type": "execute_result"
    }
   ],
   "source": [
    "student[\"city\"] = \"New Yrok\"\n",
    "student"
   ]
  },
  {
   "cell_type": "code",
   "execution_count": 94,
   "id": "73d2dbdb-5c72-4b4e-a067-e1d965c6663d",
   "metadata": {},
   "outputs": [
    {
     "data": {
      "text/plain": [
       "{'name': 'pranav', 'grade': 'A+', 'city': 'New Yrok'}"
      ]
     },
     "execution_count": 94,
     "metadata": {},
     "output_type": "execute_result"
    }
   ],
   "source": [
    "student.pop(\"age\")\n",
    "student"
   ]
  },
  {
   "cell_type": "markdown",
   "id": "27b1920c-565b-486b-aa6d-3dbc38224cad",
   "metadata": {},
   "source": [
    "Task 3 - Dicitionary Methods"
   ]
  },
  {
   "cell_type": "code",
   "execution_count": 101,
   "id": "28154565-0be8-490c-ae87-880377f18875",
   "metadata": {},
   "outputs": [
    {
     "name": "stdout",
     "output_type": "stream",
     "text": [
      "dict_keys(['name', 'grade', 'city'])\n"
     ]
    }
   ],
   "source": [
    "stmt = student.keys()\n",
    "print(stmt)"
   ]
  },
  {
   "cell_type": "code",
   "execution_count": 102,
   "id": "8867e6a4-ae4a-4300-b7b1-7c6605f71d10",
   "metadata": {},
   "outputs": [
    {
     "name": "stdout",
     "output_type": "stream",
     "text": [
      "dict_values(['pranav', 'A+', 'New Yrok'])\n"
     ]
    }
   ],
   "source": [
    "stmt2 = student.values()\n",
    "print(stmt2)"
   ]
  },
  {
   "cell_type": "code",
   "execution_count": 104,
   "id": "ba3acf04-d741-449f-9f5f-e1bb237c7271",
   "metadata": {},
   "outputs": [
    {
     "name": "stdout",
     "output_type": "stream",
     "text": [
      "dict_items([('name', 'pranav'), ('grade', 'A+'), ('city', 'New Yrok')])\n"
     ]
    }
   ],
   "source": [
    "stmt3 = student.items()\n",
    "print(stmt3)"
   ]
  },
  {
   "cell_type": "code",
   "execution_count": null,
   "id": "6e8ff14e-c868-400e-beaa-754474659d62",
   "metadata": {},
   "outputs": [],
   "source": [
    "nested ,"
   ]
  }
 ],
 "metadata": {
  "kernelspec": {
   "display_name": "Python 3 (ipykernel)",
   "language": "python",
   "name": "python3"
  },
  "language_info": {
   "codemirror_mode": {
    "name": "ipython",
    "version": 3
   },
   "file_extension": ".py",
   "mimetype": "text/x-python",
   "name": "python",
   "nbconvert_exporter": "python",
   "pygments_lexer": "ipython3",
   "version": "3.13.3"
  }
 },
 "nbformat": 4,
 "nbformat_minor": 5
}
